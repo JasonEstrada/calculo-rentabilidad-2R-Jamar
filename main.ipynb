{
 "cells": [
  {
   "cell_type": "code",
   "execution_count": null,
   "id": "1b4f11c1-8683-4946-8e74-57ff0fed321a",
   "metadata": {},
   "outputs": [],
   "source": [
    "import sys\n",
    "from awsglue.transforms import *\n",
    "from awsglue.utils import getResolvedOptions\n",
    "from pyspark.context import SparkContext\n",
    "from awsglue.context import GlueContext\n",
    "from awsglue.job import Job\n",
    "from awsglue.dynamicframe import DynamicFrame\n",
    "import re\n",
    "from pyspark.sql.functions import sum as _sum, col, when"
   ]
  },
  {
   "cell_type": "code",
   "execution_count": null,
   "id": "87bffaf2-1beb-49ef-9e9c-8d29a2cb98f9",
   "metadata": {},
   "outputs": [],
   "source": [
    "# Simula los argumentos como si los estuvieras pasando por CLI\n",
    "sys.argv = [\n",
    "    'glue_script.py',  # nombre ficticio del script, solo para cumplir con la forma\n",
    "    '--JOB_NAME', 'job_local_test',\n",
    "    '--PAIS', '1',\n",
    "    '--ANO', '2025',\n",
    "    '--MES', '1'\n",
    "]"
   ]
  },
  {
   "cell_type": "code",
   "execution_count": null,
   "id": "0dd7bbcb-22b5-4535-a23b-433c854dfe03",
   "metadata": {},
   "outputs": [],
   "source": [
    "# Obtener argumentos del job\n",
    "args = getResolvedOptions(sys.argv, ['JOB_NAME', 'PAIS', 'ANO', 'MES'])"
   ]
  },
  {
   "cell_type": "code",
   "execution_count": null,
   "id": "01274da7-7be2-4cf0-a7ac-a8f3a5117ecb",
   "metadata": {},
   "outputs": [],
   "source": [
    "# Inicializar GlueContext y Job\n",
    "sc = SparkContext.getOrCreate()\n",
    "glueContext = GlueContext(sc)\n",
    "spark = glueContext.spark_session\n",
    "job = Job(glueContext)\n",
    "job.init(args['JOB_NAME'], args)\n",
    "\n",
    "logger = glueContext.get_logger()"
   ]
  },
  {
   "cell_type": "code",
   "execution_count": null,
   "id": "7b3ad4fc-0f9a-4d32-8733-00ed7200c301",
   "metadata": {},
   "outputs": [],
   "source": [
    "def select_table_from_rd(table):\n",
    "    node = glueContext.create_dynamic_frame.from_options(\n",
    "    connection_type=\"redshift\",\n",
    "    connection_options={\n",
    "        \"redshiftTmpDir\": \"s3://aws-glue-assets-575238426438-us-east-1/temporary/\",\n",
    "        \"useConnectionProperties\": \"true\",\n",
    "        \"dbtable\": table,\n",
    "        \"connectionName\": \"conexion-redshift\"\n",
    "    },\n",
    "    transformation_ctx=\"node\"\n",
    "    )\n",
    "    return node\n",
    "\n",
    "def select_query_from_rd(query):\n",
    "    node = glueContext.create_dynamic_frame.from_options(\n",
    "        connection_type=\"redshift\",\n",
    "        connection_options={\n",
    "            \"sampleQuery\": query,\n",
    "            \"redshiftTmpDir\": \"s3://aws-glue-assets-575238426438-us-east-1/temporary/\",\n",
    "            \"useConnectionProperties\": \"true\",\n",
    "            \"connectionName\": \"conexion-redshift\"\n",
    "        },\n",
    "        transformation_ctx=\"node\"\n",
    "    )\n",
    "    return node\n"
   ]
  },
  {
   "cell_type": "code",
   "execution_count": null,
   "id": "856d7c32-4a87-4534-a9c7-f408793a198b",
   "metadata": {
    "scrolled": true
   },
   "outputs": [],
   "source": [
    "pais = args['PAIS']\n",
    "ano = args['ANO']\n",
    "mes = args['MES']\n",
    "\n",
    "query_ventas = f\"\"\"\n",
    "    select\n",
    "    \tto_char(last_day(ut.unidad_fecha), 'yyyymmdd') unidad2,\n",
    "    \tto_char(last_day(ut.unidad_fecha), 'yyyymmdd') periodo, \n",
    "    \tcase\n",
    "    \t\twhen a.agencia_mismas_tiendas = 'INSUMOS' then 'INSUMOS'\n",
    "    \t\telse tc.tcre_tipo \n",
    "    \tend tcre_tipo,\n",
    "    \tcase \n",
    "    \t\twhen tc.tcre_tipo in('CREDITO', 'CONTADO') then 1\n",
    "    \t\telse 0 \n",
    "    \tend es_venta_real,\n",
    "    \tff.fact_unidad,\n",
    "    \tut.unidad_fecha,\n",
    "    \tut.unidad_mes,\n",
    "    \tut.unidad_ano,\n",
    "    \ta.agencia_codigo,\n",
    "    \ta.agencia_descripcion,\n",
    "    \ta.agencia_pais,\n",
    "    \tc.cliente_codigo,\n",
    "    \tc.hashed_id,\n",
    "    \tc.cliente_descripcion,\n",
    "    \ttc.tcre_codigo,\n",
    "    \ttc.tcre_descripcion,\n",
    "    \ttc.tcre_tipo tcre_tipo_og,\n",
    "    \tff.fact_costo_merc_vendida,\n",
    "    \tff.fact_fletes,\n",
    "    \tff.fact_armado,\n",
    "    \tff.fact_bodegaje,\n",
    "    \tff.fact_garantia\n",
    "    from\n",
    "    \tgold.gi_fact_facturas ff\n",
    "    join gold.gi_unidad_tiempo ut\n",
    "    \ton (ff.fact_unidad = ut.unidad_id)\n",
    "    join gold.gi_agencias a\n",
    "    \ton (ff.fact_agencia = a.agencia_id)\n",
    "    join gold.gi_clientes c\n",
    "    \ton (ff.fact_cliente = c.CLIENTE_ID)\n",
    "    join gold.gi_tipo_credito tc\n",
    "    \ton (ff.FACT_TIPO_VENTA = tc.TCRE_ID)\n",
    "    where\n",
    "    \ta.agencia_pais = '{pais}'\n",
    "    \tand ut.unidad_ano = '{ano}'\n",
    "    \tand ut.unidad_mes = '{mes}'  -- Mes agregado para probar \n",
    "\"\"\""
   ]
  },
  {
   "cell_type": "code",
   "execution_count": null,
   "id": "06d19083-5988-45d9-9cd9-4b36f186d77b",
   "metadata": {},
   "outputs": [],
   "source": [
    "ventas_node = select_query_from_rd(query_ventas) \n",
    "ventas_df = ventas_node.toDF()"
   ]
  },
  {
   "cell_type": "code",
   "execution_count": null,
   "id": "6e420bb0-183c-4d43-a68f-3e8816446a8e",
   "metadata": {},
   "outputs": [],
   "source": [
    "ventas_df.show(5)"
   ]
  },
  {
   "cell_type": "code",
   "execution_count": null,
   "id": "ee464e48-01c5-49a5-9535-0ce8806fbdd6",
   "metadata": {},
   "outputs": [],
   "source": [
    "# Calcula el total del costo de mercancía vendida por mes (unidad2) y tipo de venta (es_venta_real)\n",
    "costo_merc_vend_df = ventas_df.groupBy(\"unidad2\", \"es_venta_real\") \\\n",
    "    .agg(_sum(\"fact_costo_merc_vendida\").alias(\"tot_merc_vend\"))"
   ]
  },
  {
   "cell_type": "code",
   "execution_count": null,
   "id": "8b4120d4-bda4-4836-8702-470a3ba60997",
   "metadata": {},
   "outputs": [],
   "source": [
    "costo_merc_vend_df.show()"
   ]
  },
  {
   "cell_type": "code",
   "execution_count": null,
   "id": "a2310bc4-8528-4db2-ae03-80c486ecb79c",
   "metadata": {},
   "outputs": [],
   "source": [
    "# Calcular proporción de costo mercancía vendida\n",
    "ventas_df = ventas_df.join(costo_merc_vend_df, on=[\"unidad2\", \"es_venta_real\"], how=\"left\")\n",
    "\n",
    "ventas_df = ventas_df.withColumn(\n",
    "    \"prop_cost_merc_vend\",\n",
    "    when(col(\"tot_merc_vend\").isNotNull(),\n",
    "         col(\"fact_costo_merc_vendida\") / col(\"tot_merc_vend\")).otherwise(0)\n",
    ")"
   ]
  },
  {
   "cell_type": "code",
   "execution_count": null,
   "id": "78eb1ee6-a34e-49f1-b99c-be61d40eb1b2",
   "metadata": {},
   "outputs": [],
   "source": [
    "totales_costos_df = ventas_df.groupBy(\"unidad2\").agg(\n",
    "    _sum(\"fact_fletes\").alias(\"tot_fletes\"),\n",
    "    _sum(\"fact_armado\").alias(\"tot_armado\"),\n",
    "    _sum(\"fact_bodegaje\").alias(\"tot_bodegaje\"),\n",
    "    _sum(\"fact_garantia\").alias(\"tot_garantia\")\n",
    ")\n",
    "totales_costos_df.show(5)"
   ]
  },
  {
   "cell_type": "code",
   "execution_count": null,
   "id": "168f1b62-3cd8-49cb-b9bb-73aec03a1fbf",
   "metadata": {},
   "outputs": [],
   "source": [
    "#Cálculo de proporciones de fletes, armado, bodegaje y garantía\n",
    "ventas_df = ventas_df.join(totales_costos_df, on=\"unidad2\", how=\"left\")\n",
    "\n",
    "ventas_df = ventas_df.withColumn(\n",
    "    \"prop_fletes\",\n",
    "    when((col(\"tot_fletes\").isNotNull()) & (col(\"tot_fletes\") != 0),  #se evita dividir entre 0 y NA\n",
    "         col(\"fact_fletes\") / col(\"tot_fletes\")).otherwise(0)\n",
    ").withColumn(\n",
    "    \"prop_armado\",\n",
    "    when((col(\"tot_armado\").isNotNull()) & (col(\"tot_armado\") != 0),\n",
    "         col(\"fact_armado\") / col(\"tot_armado\")).otherwise(0)\n",
    ").withColumn(\n",
    "    \"prop_bodegaje\",\n",
    "    when((col(\"tot_bodegaje\").isNotNull()) & (col(\"tot_bodegaje\") != 0),\n",
    "         col(\"fact_bodegaje\") / col(\"tot_bodegaje\")).otherwise(0)\n",
    ").withColumn(\n",
    "    \"prop_garantia\",\n",
    "    when((col(\"tot_garantia\").isNotNull()) & (col(\"tot_garantia\") != 0),\n",
    "         col(\"fact_garantia\") / col(\"tot_garantia\")).otherwise(0)\n",
    ").withColumn(\n",
    "    \"prop_empaque\",\n",
    "    col(\"prop_armado\")\n",
    ")\n"
   ]
  },
  {
   "cell_type": "code",
   "execution_count": null,
   "id": "3c87d0d0-40ed-4bf3-b9b9-e2c95cc37dd3",
   "metadata": {},
   "outputs": [],
   "source": [
    "ventas_df.select(\"unidad2\", \"cliente_descripcion\", \"tcre_tipo\", \n",
    "                 \"prop_cost_merc_vend\", \"prop_fletes\", \"prop_armado\",\n",
    "                 \"prop_bodegaje\", \"prop_garantia\", \"prop_empaque\"\n",
    "                ).show(10, truncate=False)"
   ]
  }
 ],
 "metadata": {
  "kernelspec": {
   "display_name": "Python 3",
   "language": "python",
   "name": "python3"
  },
  "language_info": {
   "codemirror_mode": {
    "name": "python",
    "version": 3
   },
   "file_extension": ".py",
   "mimetype": "text/x-python",
   "name": "python",
   "pygments_lexer": "python3",
   "version": "3.11.2"
  }
 },
 "nbformat": 4,
 "nbformat_minor": 5
}
