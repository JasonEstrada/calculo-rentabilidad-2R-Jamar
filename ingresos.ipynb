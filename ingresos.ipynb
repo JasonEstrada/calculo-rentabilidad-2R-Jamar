{
 "cells": [
  {
   "cell_type": "code",
   "execution_count": 100,
   "id": "c2efba5e-80d3-4860-a7e0-d89d841cebce",
   "metadata": {},
   "outputs": [
    {
     "data": {
      "application/vnd.jupyter.widget-view+json": {
       "model_id": "",
       "version_major": 2,
       "version_minor": 0
      },
      "text/plain": [
       "FloatProgress(value=0.0, bar_style='info', description='Progress:', layout=Layout(height='25px', width='50%'),…"
      ]
     },
     "metadata": {},
     "output_type": "display_data"
    }
   ],
   "source": [
    "import sys\n",
    "from awsglue.transforms import *\n",
    "from awsglue.utils import getResolvedOptions\n",
    "from pyspark.context import SparkContext\n",
    "from awsglue.context import GlueContext\n",
    "from awsglue.job import Job\n",
    "from awsglue.dynamicframe import DynamicFrame\n",
    "import re\n",
    "from pyspark.sql.functions import col, when, last_day, to_date, sum as _sum\n",
    "from pyspark.sql import functions as F"
   ]
  },
  {
   "cell_type": "code",
   "execution_count": 101,
   "id": "3e09f0a7-0857-43cb-bdd5-8970df57d891",
   "metadata": {},
   "outputs": [
    {
     "data": {
      "application/vnd.jupyter.widget-view+json": {
       "model_id": "",
       "version_major": 2,
       "version_minor": 0
      },
      "text/plain": [
       "FloatProgress(value=0.0, bar_style='info', description='Progress:', layout=Layout(height='25px', width='50%'),…"
      ]
     },
     "metadata": {},
     "output_type": "display_data"
    }
   ],
   "source": [
    "# Simula los argumentos como si los estuvieras pasando por CLI\n",
    "sys.argv = [\n",
    "    'glue_script.py',  # nombre ficticio del script, solo para cumplir con la forma\n",
    "    '--JOB_NAME', 'ingresos_2r',\n",
    "    '--PAIS', '2',\n",
    "    '--ANO', '2025',\n",
    "    '--MES', '1'\n",
    "]"
   ]
  },
  {
   "cell_type": "code",
   "execution_count": 102,
   "id": "b0844455-b938-4126-9eaf-1869ef7e6d08",
   "metadata": {},
   "outputs": [
    {
     "data": {
      "application/vnd.jupyter.widget-view+json": {
       "model_id": "",
       "version_major": 2,
       "version_minor": 0
      },
      "text/plain": [
       "FloatProgress(value=0.0, bar_style='info', description='Progress:', layout=Layout(height='25px', width='50%'),…"
      ]
     },
     "metadata": {},
     "output_type": "display_data"
    }
   ],
   "source": [
    "# Obtener argumentos del job\n",
    "args = getResolvedOptions(sys.argv, ['JOB_NAME', 'PAIS', 'ANO', 'MES'])"
   ]
  },
  {
   "cell_type": "code",
   "execution_count": 103,
   "id": "df46cf37-196c-4d82-ae62-83aed1eacda9",
   "metadata": {},
   "outputs": [
    {
     "data": {
      "application/vnd.jupyter.widget-view+json": {
       "model_id": "",
       "version_major": 2,
       "version_minor": 0
      },
      "text/plain": [
       "FloatProgress(value=0.0, bar_style='info', description='Progress:', layout=Layout(height='25px', width='50%'),…"
      ]
     },
     "metadata": {},
     "output_type": "display_data"
    }
   ],
   "source": [
    "# Inicializar GlueContext y Job\n",
    "sc = SparkContext.getOrCreate()\n",
    "glueContext = GlueContext(sc)\n",
    "spark = glueContext.spark_session\n",
    "job = Job(glueContext)\n",
    "job.init(args['JOB_NAME'], args)\n",
    "\n",
    "logger = glueContext.get_logger()"
   ]
  },
  {
   "cell_type": "code",
   "execution_count": 104,
   "id": "48f990b9-e9ea-4621-b84a-12414325f743",
   "metadata": {},
   "outputs": [
    {
     "data": {
      "application/vnd.jupyter.widget-view+json": {
       "model_id": "",
       "version_major": 2,
       "version_minor": 0
      },
      "text/plain": [
       "FloatProgress(value=0.0, bar_style='info', description='Progress:', layout=Layout(height='25px', width='50%'),…"
      ]
     },
     "metadata": {},
     "output_type": "display_data"
    }
   ],
   "source": [
    "def select_table_from_rd(table):\n",
    "    node = glueContext.create_dynamic_frame.from_options(\n",
    "    connection_type=\"redshift\",\n",
    "    connection_options={\n",
    "        \"redshiftTmpDir\": \"s3://aws-glue-assets-575238426438-us-east-1/temporary/\",\n",
    "        \"useConnectionProperties\": \"true\",\n",
    "        \"dbtable\": table,\n",
    "        \"connectionName\": \"conexion-redshift\"\n",
    "    },\n",
    "    transformation_ctx=\"node\"\n",
    "    )\n",
    "    return node\n",
    "\n",
    "def select_query_from_rd(query):\n",
    "    node = glueContext.create_dynamic_frame.from_options(\n",
    "        connection_type=\"redshift\",\n",
    "        connection_options={\n",
    "            \"sampleQuery\": query,\n",
    "            \"redshiftTmpDir\": \"s3://aws-glue-assets-575238426438-us-east-1/temporary/\",\n",
    "            \"useConnectionProperties\": \"true\",\n",
    "            \"connectionName\": \"conexion-redshift\"\n",
    "        },\n",
    "        transformation_ctx=\"node\"\n",
    "    )\n",
    "    return node\n"
   ]
  },
  {
   "cell_type": "code",
   "execution_count": 105,
   "id": "7db31f11-6b22-4038-b887-44e59c0c27a6",
   "metadata": {},
   "outputs": [
    {
     "data": {
      "application/vnd.jupyter.widget-view+json": {
       "model_id": "",
       "version_major": 2,
       "version_minor": 0
      },
      "text/plain": [
       "FloatProgress(value=0.0, bar_style='info', description='Progress:', layout=Layout(height='25px', width='50%'),…"
      ]
     },
     "metadata": {},
     "output_type": "display_data"
    }
   ],
   "source": [
    "pais = args['PAIS'].zfill(2)\n",
    "ano = args['ANO']\n",
    "mes = args['MES'].zfill(2)\n",
    "esquema_pais = {\n",
    "    '01': 'silver',\n",
    "    '02': 'silver_pan'\n",
    "}\n",
    "empresa_pais = {\n",
    "    '01': 'JA',\n",
    "    '02': 'JP'\n",
    "}"
   ]
  },
  {
   "cell_type": "markdown",
   "id": "11b49451-5d62-4b98-9ee1-2bee1860cbdd",
   "metadata": {},
   "source": [
    "# QUERYS"
   ]
  },
  {
   "cell_type": "code",
   "execution_count": 106,
   "id": "67645ce3-1140-4d93-8752-003dfe227cc4",
   "metadata": {},
   "outputs": [
    {
     "data": {
      "application/vnd.jupyter.widget-view+json": {
       "model_id": "",
       "version_major": 2,
       "version_minor": 0
      },
      "text/plain": [
       "FloatProgress(value=0.0, bar_style='info', description='Progress:', layout=Layout(height='25px', width='50%'),…"
      ]
     },
     "metadata": {},
     "output_type": "display_data"
    }
   ],
   "source": [
    "query_ingresos = f\"\"\"\n",
    "WITH param AS (\n",
    "  SELECT\n",
    "    valor,\n",
    "    grupo\n",
    "  FROM bronze_col.parametros_r\n",
    ")\n",
    "select \n",
    "\tFACTURA,\n",
    "    CUE as CUENTA,\n",
    "    UNIDAD,\n",
    "    INTESES_DIRECTOS,\n",
    "    CUOTA_MANEJO,\n",
    "    SEGURO,\n",
    "    VAL_SEGURO,\n",
    "    --1 as \"temp\",\n",
    "    (INTESES_DIRECTOS + CUOTA_MANEJO + SEGURO + VAL_SEGURO) as INGRESOS_MOD_FNRO,\n",
    "    C_EMP\n",
    "from (\n",
    "\tselect \n",
    "\t\tFACTURA,\n",
    "\t    CUE,\n",
    "\t    UNIDAD,\n",
    "\t    Sum(Int_Dir * tipo_valor) * -1  as INTESES_DIRECTOS,\n",
    "\t    Sum(Cm_Directo * tipo_valor) * -1 as CUOTA_MANEJO,\n",
    "\t    Sum(seguro * tipo_valor) * -1 as SEGURO,\n",
    "\t    sum(Val_Seguro * tipo_valor) * -1 as VAL_SEGURO,\n",
    "        C_EMP\n",
    "\tfrom (\n",
    "\t    \t-----------------------------------------------------------------------------------------\n",
    "\t\t\t\t\t\t--                     CARTERA                     --\n",
    "\t\t\t-----------------------------------------------------------------------------------------\n",
    "\t        (\n",
    "\t        \tSELECT \n",
    "\t\t\t        KC.CUE,\n",
    "\t\t\t        KC.documento_apl FACTURA,\n",
    "\t\t\t        KC.T_CRE,\n",
    "\t\t\t        KC.C_AGR,\n",
    "\t\t\t        ENTIDAD,\n",
    "\t\t\t        CASTIGO,\n",
    "\t\t\t        case\n",
    "\t\t\t        \twhen OPERACION in (SELECT valor FROM param WHERE grupo = 'TVAL_KARDEX_{pais}') then 1\n",
    "\t\t\t        \telse -1\n",
    "\t\t\t        end tipo_valor,\n",
    "\t\t\t        SUM(KC.INTERES_MORA) Int_Mora,\n",
    "\t\t\t\t    SUM(KC.HONORARIOS) / (SELECT max(cast(valor as float)) FROM param WHERE grupo = 'PORC_HONORARIO') Honorarios,\n",
    "\t\t\t        SUM(KC.VAL_SEGURO) Val_Seguro,\n",
    "\t\t\t        SUM(KC.GAS_COB) - SUM(KC.IVA_GAS_COB) Gasto_Cobranza,\n",
    "\t\t\t        SUM(KC.INTERES) - SUM(KC.INTERES_CAU) Int_Dir,\n",
    "\t\t\t        (SUM(KC.CUOTA_MANEJO)\n",
    "\t\t\t        \t- SUM(KC.IVA_CUOTA_MANEJO)\n",
    "\t\t\t\t\t\t+ SUM(KC.AVAL)\n",
    "\t\t\t\t\t\t- SUM(KC.IVA_AVAL)\n",
    "\t\t\t\t\t\t- SUM(KC.CONDONACION)\n",
    "\t\t\t\t\t\t+ SUM(KC.IVA_CONDONACION))\n",
    "\t\t\t\t\t- (SUM(KC.CUOTA_MANEJO_CAU)\n",
    "\t\t\t\t\t\t- SUM(KC.IVA_CUO_MANEJO_CAU)\n",
    "\t\t\t\t\t\t- SUM(KC.CONDONACION_CAU)\n",
    "\t\t\t\t\t\t+ SUM(KC.IVA_CONDONACION_CAU)) CM_Directo,\n",
    "\t\t\t\t\tSUM(KC.SEGURO) Seguro,\n",
    "\t\t\t        LAST_DAY(KC.FECHA_CREACION) UNIDAD,\n",
    "                    KC.C_EMP\n",
    "\t\t        FROM \n",
    "\t\t        \t{esquema_pais.get(pais)}.kardex_cartera KC\n",
    "\t\t        WHERE \n",
    "\t\t\t        KC.C_EMP = '{empresa_pais.get(pais)}'\n",
    "\t\t\t        AND KC.TIPO_MOV in (SELECT valor FROM param WHERE grupo = 'TMOV_KARDEX_{pais}')\n",
    "\t\t\t        AND KC.FECHA_CREACION >= to_date('{ano}-{mes}-01', 'yyyy-mm-dd')\n",
    "\t\t\t        AND KC.FECHA_CREACION <= last_day(to_date('{ano}-{mes}-01', 'yyyy-mm-dd'))\n",
    "\t\t\t        AND KC.ENTIDAD in (SELECT valor FROM param WHERE grupo = 'ENT_KARDEX_{pais}')  \n",
    "\t\t        GROUP BY \n",
    "\t\t\t        KC.CUE,\n",
    "\t\t\t        KC.documento_apl,\n",
    "\t\t\t        KC.T_CRE,\n",
    "\t\t\t        KC.C_AGR,\n",
    "\t\t\t        ENTIDAD,\n",
    "\t\t\t        CASTIGO,\n",
    "\t\t\t        OPERACION,\n",
    "\t\t\t        KC.FECHA_CREACION,\n",
    "                    KC.C_EMP\n",
    "\t        )  \n",
    "\t     \t-- ***************************\n",
    "\t  \t \tUNION ALL        \n",
    "\t   \t\t-----------------------------------------------------------------------------------------\n",
    "\t\t\t\t\t\t--                     CIERRE CAUSACION                     --\n",
    "\t\t\t-----------------------------------------------------------------------------------------\n",
    "\t    \t(\t\n",
    "\t\t\t\tselect\n",
    "\t\t\t\t\tCIC.CUE,\n",
    "\t\t\t\t\tCIC.N_ORI,\n",
    "\t\t\t\t\tCIC.T_CRE,\n",
    "\t\t\t\t\tCIC.C_AGR,\n",
    "\t\t\t\t\tCIC.ENTIDAD,\n",
    "\t\t\t\t\tnull,\n",
    "\t\t\t\t\tcase\n",
    "\t\t\t\t\t\twhen CIC.TIPO_MOV in (SELECT valor FROM param WHERE grupo = 'TVAL_CIERRE_{pais}') then 1\n",
    "\t\t\t\t\t\telse -1\n",
    "\t\t\t\t\tend tipo_valor,\n",
    "\t\t\t\t\t0 Int_Mora,\n",
    "\t\t\t\t\t0 Honorarios,\n",
    "\t\t\t\t\t0 Val_Seguro,\n",
    "\t\t\t\t\t0 Gasto_Cobranza,\n",
    "\t\t\t\t\tsum(CIC.INTERES) Int_Dir,\n",
    "\t\t\t\t\t(\n",
    "\t\t\t\t\t\tsum(CIC.CUOTA_MANEJO) -\n",
    "\t\t\t\t\t\tsum(CIC.IVA_CUOTA_MANEJO) -\n",
    "\t\t\t\t\t\tsum(CIC.CONDONACION) +\n",
    "\t\t\t\t\t\tsum(CIC.IVA_CONDONACION)\n",
    "\t\t\t\t\t) CM_Directo,\n",
    "\t\t\t\t\t0 seguro,\n",
    "\t\t\t\t\tLAST_DAY(TO_DATE(CIC.PER, 'YYYYMM')) UNIDAD,\n",
    "                    CIC.C_EMP\n",
    "\t\t\t\tfrom\n",
    "\t\t\t\t\t{esquema_pais.get(pais)}.CIERRE_CAUSACION CIC\n",
    "\t\t\t\tWhere\n",
    "\t\t\t\t\tCIC.C_EMP = '{empresa_pais.get(pais)}'\n",
    "\t\t\t\t\tand CIC.PER = '{ano}{mes}'\n",
    "\t\t\t\t\t--and CIC.PER <= '202512'\n",
    "\t\t\t\t\tand TIPO_MOV in (SELECT valor FROM param WHERE grupo = 'TMOV_CIERRE_{pais}')\n",
    "\t\t\t\tgroup by\n",
    "\t\t\t\t\tCIC.C_AGR,\n",
    "\t\t\t\t\tCIC.T_CRE,\n",
    "\t\t\t\t\tCIC.CUE,\n",
    "\t\t\t\t\tCIC.TIPO_MOV,\n",
    "\t\t\t\t\tCIC.N_ORI,\n",
    "\t\t\t\t\tCIC.ENTIDAD,\n",
    "\t\t\t\t\tCIC.PER,\n",
    "                    CIC.C_EMP\n",
    "\t        \t)\n",
    "\t    -- ***************************\n",
    "\t\t)    \n",
    "\tgroup by \n",
    "\t\tFACTURA,\n",
    "\t\tCUE,\n",
    "\t\tUNIDAD,\n",
    "        C_EMP\n",
    ")\n",
    "\"\"\""
   ]
  },
  {
   "cell_type": "code",
   "execution_count": 107,
   "id": "7f55f5ec-53fe-4b9e-b5a2-9395692b8b1e",
   "metadata": {},
   "outputs": [
    {
     "data": {
      "application/vnd.jupyter.widget-view+json": {
       "model_id": "",
       "version_major": 2,
       "version_minor": 0
      },
      "text/plain": [
       "FloatProgress(value=0.0, bar_style='info', description='Progress:', layout=Layout(height='25px', width='50%'),…"
      ]
     },
     "metadata": {},
     "output_type": "display_data"
    }
   ],
   "source": [
    "ingresos_node = select_query_from_rd(query_ingresos) \n",
    "ingresos_df = ingresos_node.toDF()"
   ]
  },
  {
   "cell_type": "code",
   "execution_count": 108,
   "id": "3b11e5ba-1d27-4406-9e2a-0e8ed0db80c6",
   "metadata": {},
   "outputs": [
    {
     "data": {
      "application/vnd.jupyter.widget-view+json": {
       "model_id": "",
       "version_major": 2,
       "version_minor": 0
      },
      "text/plain": [
       "FloatProgress(value=0.0, bar_style='info', description='Progress:', layout=Layout(height='25px', width='50%'),…"
      ]
     },
     "metadata": {},
     "output_type": "display_data"
    },
    {
     "name": "stdout",
     "output_type": "stream",
     "text": [
      "+-------+------+----------+----------------+------------+------+----------+-----------------+-----+\n",
      "|factura|cuenta|    unidad|inteses_directos|cuota_manejo|seguro|val_seguro|ingresos_mod_fnro|c_emp|\n",
      "+-------+------+----------+----------------+------------+------+----------+-----------------+-----+\n",
      "|  91062| 22952|2025-01-31|           63.89|        0.00|  0.00|      3.01|            66.90|   JP|\n",
      "|  53632| 59997|2025-01-31|           25.80|        0.00|  0.00|      1.56|            27.36|   JP|\n",
      "|  10164|   288|2025-01-31|           37.83|        0.00|  0.00|     15.03|            52.86|   JP|\n",
      "| 174875| 63112|2025-01-31|            6.79|        0.00|  0.00|      0.77|             7.56|   JP|\n",
      "| 176257|   299|2025-01-31|           88.52|        0.00|  0.00|      9.50|            98.02|   JP|\n",
      "|  23049| 55457|2025-01-31|           33.20|        0.00|  0.00|      0.00|            33.20|   JP|\n",
      "|  82894| 21222|2025-01-31|            3.68|        0.00|  0.00|      0.00|             3.68|   JP|\n",
      "|  76305|  3126|2025-01-31|           10.26|        0.00|  0.00|      0.00|            10.26|   JP|\n",
      "|  34058|  8043|2025-01-31|           54.53|        0.00|  0.00|     17.07|            71.60|   JP|\n",
      "| 168820| 18297|2025-01-31|            0.81|        0.00|  0.00|      0.99|             1.80|   JP|\n",
      "|  91351| 61356|2025-01-31|           31.12|        0.00|  0.00|      2.28|            33.40|   JP|\n",
      "|  13037|  1251|2025-01-31|           21.27|        0.00|  0.00|      0.84|            22.11|   JP|\n",
      "|  55141| 11944|2025-01-31|           19.27|        0.00|  0.00|      0.00|            19.27|   JP|\n",
      "|  12552|  1258|2025-01-31|           51.99|        0.00|  0.00|      5.01|            57.00|   JP|\n",
      "|  33860|  7698|2025-01-31|            0.00|        0.00|  0.00|      0.00|             0.00|   JP|\n",
      "| 100333| 23800|2025-01-31|            1.54|        0.00|  0.00|      0.00|             1.54|   JP|\n",
      "|  22008| 61391|2025-01-31|           11.97|        0.00|  0.00|      0.99|            12.96|   JP|\n",
      "|  93869| 10356|2025-01-31|          112.55|        0.00|  0.00|     12.50|           125.05|   JP|\n",
      "|  37179|  8704|2025-01-31|           11.30|        0.00|  0.00|      0.83|            12.13|   JP|\n",
      "|  10238|    79|2025-01-31|            0.00|        0.00|  0.00|      0.00|             0.00|   JP|\n",
      "+-------+------+----------+----------------+------------+------+----------+-----------------+-----+\n",
      "only showing top 20 rows"
     ]
    }
   ],
   "source": [
    "ingresos_df.show()"
   ]
  },
  {
   "cell_type": "code",
   "execution_count": 109,
   "id": "c5da84dc-75d7-41af-8ae1-e95430659ef7",
   "metadata": {},
   "outputs": [
    {
     "data": {
      "application/vnd.jupyter.widget-view+json": {
       "model_id": "",
       "version_major": 2,
       "version_minor": 0
      },
      "text/plain": [
       "FloatProgress(value=0.0, bar_style='info', description='Progress:', layout=Layout(height='25px', width='50%'),…"
      ]
     },
     "metadata": {},
     "output_type": "display_data"
    }
   ],
   "source": [
    "ingresos_node_w = glueContext.write_dynamic_frame.from_options(\n",
    "    frame=ingresos_node,\n",
    "    connection_type=\"redshift\",\n",
    "    connection_options={\n",
    "        \"postactions\": \"\"\"\n",
    "        \"\"\",\n",
    "        \"redshiftTmpDir\": \"s3://aws-glue-assets-575238426438-us-east-1/temporary/\",\n",
    "        \"useConnectionProperties\": \"true\",\n",
    "        \"dbtable\": \"cf_processing.ingresos_2r\",\n",
    "        \"connectionName\": \"conexion-redshift\",\n",
    "        \"preactions\": f\"\"\"\n",
    "            DELETE FROM cf_processing.ingresos_2r\n",
    "            where unidad = last_day(to_date('{ano}-{mes}','yyyy-mm'))\n",
    "            and c_emp = '{empresa_pais.get(pais)}';\n",
    "        \"\"\"\n",
    "    },\n",
    "    transformation_ctx=\"ingresos_node_w\"\n",
    ")"
   ]
  }
 ],
 "metadata": {
  "kernelspec": {
   "display_name": "PySpark",
   "language": "python",
   "name": "pysparkkernel"
  },
  "language_info": {
   "codemirror_mode": {
    "name": "python",
    "version": 3
   },
   "file_extension": ".py",
   "mimetype": "text/x-python",
   "name": "pyspark",
   "pygments_lexer": "python3"
  }
 },
 "nbformat": 4,
 "nbformat_minor": 5
}
