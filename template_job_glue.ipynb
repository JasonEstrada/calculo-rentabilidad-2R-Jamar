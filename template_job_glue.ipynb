{
 "cells": [
  {
   "cell_type": "code",
   "execution_count": null,
   "id": "e595dc5f-f08a-447e-88a9-3c297ee51d7e",
   "metadata": {},
   "outputs": [
    {
     "name": "stdout",
     "output_type": "stream",
     "text": [
      "Starting Spark application\n"
     ]
    },
    {
     "data": {
      "text/html": [
       "<table>\n",
       "<tr><th>ID</th><th>YARN Application ID</th><th>Kind</th><th>State</th><th>Spark UI</th><th>Driver log</th><th>User</th><th>Current session?</th></tr><tr><td>1</td><td>None</td><td>pyspark</td><td>idle</td><td></td><td></td><td>None</td><td>✔</td></tr></table>"
      ],
      "text/plain": [
       "<IPython.core.display.HTML object>"
      ]
     },
     "metadata": {},
     "output_type": "display_data"
    },
    {
     "data": {
      "application/vnd.jupyter.widget-view+json": {
       "model_id": "",
       "version_major": 2,
       "version_minor": 0
      },
      "text/plain": [
       "FloatProgress(value=0.0, bar_style='info', description='Progress:', layout=Layout(height='25px', width='50%'),…"
      ]
     },
     "metadata": {},
     "output_type": "display_data"
    },
    {
     "name": "stdout",
     "output_type": "stream",
     "text": [
      "SparkSession available as 'spark'.\n"
     ]
    },
    {
     "data": {
      "application/vnd.jupyter.widget-view+json": {
       "model_id": "",
       "version_major": 2,
       "version_minor": 0
      },
      "text/plain": [
       "FloatProgress(value=0.0, bar_style='info', description='Progress:', layout=Layout(height='25px', width='50%'),…"
      ]
     },
     "metadata": {},
     "output_type": "display_data"
    }
   ],
   "source": [
    "import sys\n",
    "from awsglue.transforms import *\n",
    "from awsglue.utils import getResolvedOptions\n",
    "from pyspark.context import SparkContext\n",
    "from awsglue.context import GlueContext\n",
    "from awsglue.job import Job\n",
    "from awsglue.dynamicframe import DynamicFrame\n",
    "import re"
   ]
  },
  {
   "cell_type": "code",
   "execution_count": null,
   "id": "c27be21e-79e3-48ae-9ff9-8d2ae03b3f63",
   "metadata": {},
   "outputs": [
    {
     "data": {
      "application/vnd.jupyter.widget-view+json": {
       "model_id": "",
       "version_major": 2,
       "version_minor": 0
      },
      "text/plain": [
       "FloatProgress(value=0.0, bar_style='info', description='Progress:', layout=Layout(height='25px', width='50%'),…"
      ]
     },
     "metadata": {},
     "output_type": "display_data"
    }
   ],
   "source": [
    "def sparkSqlQuery(glueContext, query, mapping, transformation_ctx) -> DynamicFrame:\n",
    "    for alias, frame in mapping.items():\n",
    "        frame.toDF().createOrReplaceTempView(alias)\n",
    "    result = spark.sql(query)\n",
    "    return DynamicFrame.fromDF(result, glueContext, transformation_ctx)"
   ]
  },
  {
   "cell_type": "code",
   "execution_count": null,
   "id": "0a19f71e-ca9a-490c-99a7-1d1c620853ee",
   "metadata": {},
   "outputs": [
    {
     "data": {
      "application/vnd.jupyter.widget-view+json": {
       "model_id": "",
       "version_major": 2,
       "version_minor": 0
      },
      "text/plain": [
       "FloatProgress(value=0.0, bar_style='info', description='Progress:', layout=Layout(height='25px', width='50%'),…"
      ]
     },
     "metadata": {},
     "output_type": "display_data"
    }
   ],
   "source": [
    "# Simula los argumentos como si los estuvieras pasando por CLI\n",
    "sys.argv = [\n",
    "    'glue_script.py',  # nombre ficticio del script, solo para cumplir con la forma\n",
    "    '--JOB_NAME', 'job_local_test',\n",
    "    '--modo', 'test',\n",
    "    '--meses', '6'\n",
    "]"
   ]
  },
  {
   "cell_type": "code",
   "execution_count": null,
   "id": "d581492d-d31c-4b2e-8cd0-2d31e3387224",
   "metadata": {},
   "outputs": [
    {
     "data": {
      "application/vnd.jupyter.widget-view+json": {
       "model_id": "",
       "version_major": 2,
       "version_minor": 0
      },
      "text/plain": [
       "FloatProgress(value=0.0, bar_style='info', description='Progress:', layout=Layout(height='25px', width='50%'),…"
      ]
     },
     "metadata": {},
     "output_type": "display_data"
    }
   ],
   "source": [
    "# Obtener argumentos del job\n",
    "args = getResolvedOptions(sys.argv, ['JOB_NAME', 'modo', 'meses'])"
   ]
  },
  {
   "cell_type": "code",
   "execution_count": null,
   "id": "7512c2b5-d2e4-40d5-8430-e48edd741bc0",
   "metadata": {},
   "outputs": [
    {
     "data": {
      "application/vnd.jupyter.widget-view+json": {
       "model_id": "",
       "version_major": 2,
       "version_minor": 0
      },
      "text/plain": [
       "FloatProgress(value=0.0, bar_style='info', description='Progress:', layout=Layout(height='25px', width='50%'),…"
      ]
     },
     "metadata": {},
     "output_type": "display_data"
    }
   ],
   "source": [
    "# Inicializar GlueContext y Job\n",
    "sc = SparkContext.getOrCreate()\n",
    "glueContext = GlueContext(sc)\n",
    "spark = glueContext.spark_session\n",
    "job = Job(glueContext)\n",
    "job.init(args['JOB_NAME'], args)\n",
    "\n",
    "logger = glueContext.get_logger()"
   ]
  },
  {
   "cell_type": "code",
   "execution_count": null,
   "id": "accba364-d8b9-4617-bd13-76a5b56911d2",
   "metadata": {},
   "outputs": [
    {
     "data": {
      "application/vnd.jupyter.widget-view+json": {
       "model_id": "",
       "version_major": 2,
       "version_minor": 0
      },
      "text/plain": [
       "FloatProgress(value=0.0, bar_style='info', description='Progress:', layout=Layout(height='25px', width='50%'),…"
      ]
     },
     "metadata": {},
     "output_type": "display_data"
    }
   ],
   "source": [
    "def select_table_from_rd(table):\n",
    "    node = glueContext.create_dynamic_frame.from_options(\n",
    "    connection_type=\"redshift\",\n",
    "    connection_options={\n",
    "        \"redshiftTmpDir\": \"s3://aws-glue-assets-575238426438-us-east-1/temporary/\",\n",
    "        \"useConnectionProperties\": \"true\",\n",
    "        \"dbtable\": table,\n",
    "        \"connectionName\": \"conexion-redshift\"\n",
    "    },\n",
    "    transformation_ctx=\"node\"\n",
    "    )\n",
    "    return node\n",
    "\n",
    "def select_query_from_rd(query):\n",
    "    node = glueContext.create_dynamic_frame.from_options(\n",
    "        connection_type=\"redshift\",\n",
    "        connection_options={\n",
    "            \"sampleQuery\": query,\n",
    "            \"redshiftTmpDir\": \"s3://aws-glue-assets-575238426438-us-east-1/temporary/\",\n",
    "            \"useConnectionProperties\": \"true\",\n",
    "            \"connectionName\": \"conexion-redshift\"\n",
    "        },\n",
    "        transformation_ctx=\"node\"\n",
    "    )\n",
    "    return node\n"
   ]
  },
  {
   "cell_type": "code",
   "execution_count": null,
   "id": "efb77b2c-e950-456f-a4b9-faa60e06efc4",
   "metadata": {},
   "outputs": [
    {
     "data": {
      "application/vnd.jupyter.widget-view+json": {
       "model_id": "",
       "version_major": 2,
       "version_minor": 0
      },
      "text/plain": [
       "FloatProgress(value=0.0, bar_style='info', description='Progress:', layout=Layout(height='25px', width='50%'),…"
      ]
     },
     "metadata": {},
     "output_type": "display_data"
    },
    {
     "name": "stdout",
     "output_type": "stream",
     "text": [
      "+----------+------------------+--------------------+\n",
      "|bod_codigo|   bod_descripcion|        fecha_cargue|\n",
      "+----------+------------------+--------------------+\n",
      "|        39|BODEGA GUADALAJARA|2025-04-19 15:31:...|\n",
      "|        80|       BODEGA MABE|2025-04-19 15:31:...|\n",
      "|        88|BODEGA LOS ANGELES|2025-04-19 15:31:...|\n",
      "|        89|   BODEGA DE CARPA|2025-04-19 15:31:...|\n",
      "|        51|  BODEGA MS MEXICO|2025-04-19 15:31:...|\n",
      "+----------+------------------+--------------------+\n",
      "only showing top 5 rows"
     ]
    }
   ],
   "source": [
    "node = select_table_from_rd(\"stdmx.stg_bodegas\")\n",
    "node.toDF().show(5)"
   ]
  },
  {
   "cell_type": "code",
   "execution_count": null,
   "id": "cf6d5e64-c1f6-4947-ac13-c730847f4b14",
   "metadata": {},
   "outputs": [
    {
     "data": {
      "application/vnd.jupyter.widget-view+json": {
       "model_id": "",
       "version_major": 2,
       "version_minor": 0
      },
      "text/plain": [
       "FloatProgress(value=0.0, bar_style='info', description='Progress:', layout=Layout(height='25px', width='50%'),…"
      ]
     },
     "metadata": {},
     "output_type": "display_data"
    },
    {
     "name": "stdout",
     "output_type": "stream",
     "text": [
      "{\"unidad_id\": 20250327.0000000000, \"unidad_fecha\": 2025-03-27 00:00:00.0, \"unidad_num_dia_semana\": null, \"unidad_num_dia_mes\": 27.0000000000, \"unidad_num_dia_ano\": null, \"unidad_nombre_dia\": null, \"unidad_nombre_dia_abrev\": null, \"unidad_flag_dia_semana\": null, \"unidad_num_semana_ano\": null, \"unidad_num_semana_general\": null, \"unidad_fecha_inicio_semana\": null, \"unidad_id_inicio_semana\": null, \"unidad_mes\": 3.0000000000, \"unidad_nombre_mes\": null, \"unidad_nombre_mes_abrev\": null, \"unidad_trimestre\": null, \"unidad_ano\": 2025.0000000000, \"unidad_ano_mes\": null, \"unidad_mes_fiscal\": null, \"unidad_trimestre_fiscal\": null, \"unidad_ano_fiscal\": null, \"unidad_flag_ultimo_dia_seamana\": null, \"unidad_fecha_actualiz\": 2025-01-01 00:00:00.0, \"unidad_estado_actualiz\": \"A\"}\n",
      "{\"unidad_id\": 20250324.0000000000, \"unidad_fecha\": 2025-03-24 00:00:00.0, \"unidad_num_dia_semana\": null, \"unidad_num_dia_mes\": 24.0000000000, \"unidad_num_dia_ano\": null, \"unidad_nombre_dia\": null, \"unidad_nombre_dia_abrev\": null, \"unidad_flag_dia_semana\": null, \"unidad_num_semana_ano\": null, \"unidad_num_semana_general\": null, \"unidad_fecha_inicio_semana\": null, \"unidad_id_inicio_semana\": null, \"unidad_mes\": 3.0000000000, \"unidad_nombre_mes\": null, \"unidad_nombre_mes_abrev\": null, \"unidad_trimestre\": null, \"unidad_ano\": 2025.0000000000, \"unidad_ano_mes\": null, \"unidad_mes_fiscal\": null, \"unidad_trimestre_fiscal\": null, \"unidad_ano_fiscal\": null, \"unidad_flag_ultimo_dia_seamana\": null, \"unidad_fecha_actualiz\": 2025-01-01 00:00:00.0, \"unidad_estado_actualiz\": \"A\"}\n",
      "{\"unidad_id\": 20250329.0000000000, \"unidad_fecha\": 2025-03-29 00:00:00.0, \"unidad_num_dia_semana\": null, \"unidad_num_dia_mes\": 29.0000000000, \"unidad_num_dia_ano\": null, \"unidad_nombre_dia\": null, \"unidad_nombre_dia_abrev\": null, \"unidad_flag_dia_semana\": null, \"unidad_num_semana_ano\": null, \"unidad_num_semana_general\": null, \"unidad_fecha_inicio_semana\": null, \"unidad_id_inicio_semana\": null, \"unidad_mes\": 3.0000000000, \"unidad_nombre_mes\": null, \"unidad_nombre_mes_abrev\": null, \"unidad_trimestre\": null, \"unidad_ano\": 2025.0000000000, \"unidad_ano_mes\": null, \"unidad_mes_fiscal\": null, \"unidad_trimestre_fiscal\": null, \"unidad_ano_fiscal\": null, \"unidad_flag_ultimo_dia_seamana\": null, \"unidad_fecha_actualiz\": 2025-01-01 00:00:00.0, \"unidad_estado_actualiz\": \"A\"}\n",
      "{\"unidad_id\": 20250310.0000000000, \"unidad_fecha\": 2025-03-10 00:00:00.0, \"unidad_num_dia_semana\": null, \"unidad_num_dia_mes\": 10.0000000000, \"unidad_num_dia_ano\": null, \"unidad_nombre_dia\": null, \"unidad_nombre_dia_abrev\": null, \"unidad_flag_dia_semana\": null, \"unidad_num_semana_ano\": null, \"unidad_num_semana_general\": null, \"unidad_fecha_inicio_semana\": null, \"unidad_id_inicio_semana\": null, \"unidad_mes\": 3.0000000000, \"unidad_nombre_mes\": null, \"unidad_nombre_mes_abrev\": null, \"unidad_trimestre\": null, \"unidad_ano\": 2025.0000000000, \"unidad_ano_mes\": null, \"unidad_mes_fiscal\": null, \"unidad_trimestre_fiscal\": null, \"unidad_ano_fiscal\": null, \"unidad_flag_ultimo_dia_seamana\": null, \"unidad_fecha_actualiz\": 2025-01-01 00:00:00.0, \"unidad_estado_actualiz\": \"A\"}\n",
      "{\"unidad_id\": 20250319.0000000000, \"unidad_fecha\": 2025-03-19 00:00:00.0, \"unidad_num_dia_semana\": null, \"unidad_num_dia_mes\": 19.0000000000, \"unidad_num_dia_ano\": null, \"unidad_nombre_dia\": null, \"unidad_nombre_dia_abrev\": null, \"unidad_flag_dia_semana\": null, \"unidad_num_semana_ano\": null, \"unidad_num_semana_general\": null, \"unidad_fecha_inicio_semana\": null, \"unidad_id_inicio_semana\": null, \"unidad_mes\": 3.0000000000, \"unidad_nombre_mes\": null, \"unidad_nombre_mes_abrev\": null, \"unidad_trimestre\": null, \"unidad_ano\": 2025.0000000000, \"unidad_ano_mes\": null, \"unidad_mes_fiscal\": null, \"unidad_trimestre_fiscal\": null, \"unidad_ano_fiscal\": null, \"unidad_flag_ultimo_dia_seamana\": null, \"unidad_fecha_actualiz\": 2025-01-01 00:00:00.0, \"unidad_estado_actualiz\": \"A\"}"
     ]
    }
   ],
   "source": [
    "query = \"select * from gold.gi_unidad_tiempo where unidad_ano = 2025 and unidad_mes = 3\"\n",
    "node2 = select_query_from_rd(query)\n",
    "node2.show(5)"
   ]
  },
  {
   "cell_type": "code",
   "execution_count": null,
   "id": "d48f7a8b-0f42-4091-b036-ad170917762a",
   "metadata": {},
   "outputs": [
    {
     "data": {
      "application/vnd.jupyter.widget-view+json": {
       "model_id": "",
       "version_major": 2,
       "version_minor": 0
      },
      "text/plain": [
       "FloatProgress(value=0.0, bar_style='info', description='Progress:', layout=Layout(height='25px', width='50%'),…"
      ]
     },
     "metadata": {},
     "output_type": "display_data"
    }
   ],
   "source": [
    "# Finalizar el trabajo\n",
    "job.commit()"
   ]
  }
 ],
 "metadata": {
  "kernelspec": {
   "display_name": "Python 3",
   "language": "python",
   "name": "python3"
  },
  "language_info": {
   "codemirror_mode": {
    "name": "python",
    "version": 3
   },
   "file_extension": ".py",
   "mimetype": "text/x-python",
   "name": "python",
   "pygments_lexer": "python3",
   "version": "3.11.2"
  }
 },
 "nbformat": 4,
 "nbformat_minor": 5
}
