{
 "cells": [
  {
   "cell_type": "code",
   "execution_count": 3,
   "id": "77e6e9e3-7c40-4db3-a2ad-b9536065914c",
   "metadata": {},
   "outputs": [
    {
     "data": {
      "application/vnd.jupyter.widget-view+json": {
       "model_id": "",
       "version_major": 2,
       "version_minor": 0
      },
      "text/plain": [
       "FloatProgress(value=0.0, bar_style='info', description='Progress:', layout=Layout(height='25px', width='50%'),…"
      ]
     },
     "metadata": {},
     "output_type": "display_data"
    }
   ],
   "source": [
    "import sys\n",
    "from awsglue.transforms import *\n",
    "from awsglue.utils import getResolvedOptions\n",
    "from pyspark.context import SparkContext\n",
    "from awsglue.context import GlueContext\n",
    "from awsglue.job import Job\n",
    "from awsglue.dynamicframe import DynamicFrame\n",
    "import re\n",
    "from pyspark.sql.functions import col, when, last_day, to_date, sum as _sum\n",
    "from pyspark.sql import functions as F"
   ]
  },
  {
   "cell_type": "code",
   "execution_count": 11,
   "id": "8a57b819-cb69-4061-a19b-70d278e1009a",
   "metadata": {},
   "outputs": [
    {
     "data": {
      "application/vnd.jupyter.widget-view+json": {
       "model_id": "",
       "version_major": 2,
       "version_minor": 0
      },
      "text/plain": [
       "FloatProgress(value=0.0, bar_style='info', description='Progress:', layout=Layout(height='25px', width='50%'),…"
      ]
     },
     "metadata": {},
     "output_type": "display_data"
    }
   ],
   "source": [
    "# Simula los argumentos como si los estuvieras pasando por CLI\n",
    "sys.argv = [\n",
    "    'glue_script.py',  # nombre ficticio del script, solo para cumplir con la forma\n",
    "    '--JOB_NAME', 'cartera_2r',\n",
    "    '--PAIS', '2',\n",
    "    '--ANO', '2025',\n",
    "    '--MES', '1'\n",
    "]"
   ]
  },
  {
   "cell_type": "code",
   "execution_count": 12,
   "id": "f3c6a417-3a9c-40ac-a546-0b3e54f73d30",
   "metadata": {},
   "outputs": [
    {
     "data": {
      "application/vnd.jupyter.widget-view+json": {
       "model_id": "",
       "version_major": 2,
       "version_minor": 0
      },
      "text/plain": [
       "FloatProgress(value=0.0, bar_style='info', description='Progress:', layout=Layout(height='25px', width='50%'),…"
      ]
     },
     "metadata": {},
     "output_type": "display_data"
    }
   ],
   "source": [
    "# Obtener argumentos del job\n",
    "args = getResolvedOptions(sys.argv, ['JOB_NAME', 'PAIS', 'ANO', 'MES'])"
   ]
  },
  {
   "cell_type": "code",
   "execution_count": 13,
   "id": "d74159ae-f831-4adf-aef7-4ca7eb6aa686",
   "metadata": {},
   "outputs": [
    {
     "data": {
      "application/vnd.jupyter.widget-view+json": {
       "model_id": "",
       "version_major": 2,
       "version_minor": 0
      },
      "text/plain": [
       "FloatProgress(value=0.0, bar_style='info', description='Progress:', layout=Layout(height='25px', width='50%'),…"
      ]
     },
     "metadata": {},
     "output_type": "display_data"
    }
   ],
   "source": [
    "# Inicializar GlueContext y Job\n",
    "sc = SparkContext.getOrCreate()\n",
    "glueContext = GlueContext(sc)\n",
    "spark = glueContext.spark_session\n",
    "job = Job(glueContext)\n",
    "job.init(args['JOB_NAME'], args)\n",
    "\n",
    "logger = glueContext.get_logger()"
   ]
  },
  {
   "cell_type": "code",
   "execution_count": 14,
   "id": "2b616d18-04c7-4f82-ac86-5e338f7fcf53",
   "metadata": {},
   "outputs": [
    {
     "data": {
      "application/vnd.jupyter.widget-view+json": {
       "model_id": "",
       "version_major": 2,
       "version_minor": 0
      },
      "text/plain": [
       "FloatProgress(value=0.0, bar_style='info', description='Progress:', layout=Layout(height='25px', width='50%'),…"
      ]
     },
     "metadata": {},
     "output_type": "display_data"
    }
   ],
   "source": [
    "def select_table_from_rd(table):\n",
    "    node = glueContext.create_dynamic_frame.from_options(\n",
    "    connection_type=\"redshift\",\n",
    "    connection_options={\n",
    "        \"redshiftTmpDir\": \"s3://aws-glue-assets-575238426438-us-east-1/temporary/\",\n",
    "        \"useConnectionProperties\": \"true\",\n",
    "        \"dbtable\": table,\n",
    "        \"connectionName\": \"conexion-redshift\"\n",
    "    },\n",
    "    transformation_ctx=\"node\"\n",
    "    )\n",
    "    return node\n",
    "\n",
    "def select_query_from_rd(query):\n",
    "    node = glueContext.create_dynamic_frame.from_options(\n",
    "        connection_type=\"redshift\",\n",
    "        connection_options={\n",
    "            \"sampleQuery\": query,\n",
    "            \"redshiftTmpDir\": \"s3://aws-glue-assets-575238426438-us-east-1/temporary/\",\n",
    "            \"useConnectionProperties\": \"true\",\n",
    "            \"connectionName\": \"conexion-redshift\"\n",
    "        },\n",
    "        transformation_ctx=\"node\"\n",
    "    )\n",
    "    return node\n"
   ]
  },
  {
   "cell_type": "code",
   "execution_count": 15,
   "id": "f3f55c4b-2766-4f9c-96ca-0da728b9afa3",
   "metadata": {},
   "outputs": [
    {
     "data": {
      "application/vnd.jupyter.widget-view+json": {
       "model_id": "",
       "version_major": 2,
       "version_minor": 0
      },
      "text/plain": [
       "FloatProgress(value=0.0, bar_style='info', description='Progress:', layout=Layout(height='25px', width='50%'),…"
      ]
     },
     "metadata": {},
     "output_type": "display_data"
    }
   ],
   "source": [
    "pais = args['PAIS'].zfill(2)\n",
    "ano = args['ANO']\n",
    "mes = args['MES'].zfill(2)\n",
    "esquema_pais = {\n",
    "    '01': 'silver',\n",
    "    '02': 'silver_pan'\n",
    "}\n",
    "empresa_pais = {\n",
    "    '01': 'JA',\n",
    "    '02': 'JP'\n",
    "}"
   ]
  },
  {
   "cell_type": "markdown",
   "id": "d484cef2-f4c8-4974-93d5-d870dd1ef1fe",
   "metadata": {},
   "source": [
    "# QUERYS"
   ]
  },
  {
   "cell_type": "code",
   "execution_count": 16,
   "id": "1f4ee796-91e9-48c8-825d-a97a8f93052a",
   "metadata": {},
   "outputs": [
    {
     "data": {
      "application/vnd.jupyter.widget-view+json": {
       "model_id": "",
       "version_major": 2,
       "version_minor": 0
      },
      "text/plain": [
       "FloatProgress(value=0.0, bar_style='info', description='Progress:', layout=Layout(height='25px', width='50%'),…"
      ]
     },
     "metadata": {},
     "output_type": "display_data"
    }
   ],
   "source": [
    "query_cartera = f\"\"\"\n",
    "--consulta cartera--\n",
    "with tasas_wac as(\n",
    "\tSELECT\n",
    "\tlast_day(to_date(v.campo1, 'd/mm/yyyy')) unidad2,\n",
    "\tv.campo2 WAC_NM\n",
    "\t  FROM bronze_col.variablesrentabilidadexcel v, silver.tipos_excel_variables t\n",
    "\t  WHERE t.id = v.excelid\n",
    "\t  AND t.nombre='COSTO_FINANCIERO_WACC'\n",
    "),\n",
    "param AS (\n",
    "  SELECT\n",
    "    valor,\n",
    "    grupo,\n",
    "    periodo\n",
    "  FROM bronze_col.parametros_r\n",
    ")\n",
    "select\n",
    "\tc.CART_UNIDAD,\n",
    "\tc.CART_EMISION,\n",
    "\tc.CART_TRAMO_NUEVO,\n",
    "\tc.CART_RECAUDO_CAPITAL,\n",
    "\tc.CART_TIPOCUENTA,\n",
    "\tc.CART_CAPITAL,\n",
    "\tc.CART_TIPCRE,\n",
    "\tc.CART_CLIENTE,\n",
    "\tc.CART_CTACAR,\n",
    "\tc.CART_AGE_ULT_COMPRA,\n",
    "\tc.CART_PROV_LISIM_CAPITAL_INI,\n",
    "\tc.CART_SALPROV,\n",
    "\tc.CART_PROVISION,\n",
    "\tc.CART_SALDOPROVINI,\n",
    "\tc.CART_RECPER,\n",
    "\tc.CART_DCTO_CAPITAL,\n",
    "\tc.CART_SALPROVCAPITAL,\n",
    "\tc.CART_TRAMOINI,\n",
    "\tc.CART_RECAUDO_HONORARIOS,\n",
    "\tc.CART_ESTADO,\n",
    "\tc.CART_ESTINI,\n",
    "\tc.CART_SEGMENTO,\n",
    "\tc.CART_PRIMERA_ACC_SUGERIDA,\n",
    "\tc.CART_MARCADATA,\n",
    "\tc.CART_PRIMERA_MARCADATA,\n",
    "\tc.PROVISION_CAPITAL_NUEVO,\n",
    "\tc.CART_ACCIONSUGERIDA,\n",
    "\tc.CART_SALDO,\n",
    "\tc.CART_SALDO_CAPITAL_INI,\n",
    "\tc.CART_RECAUDO_INTERESMORA,\n",
    "\tc.CART_RECAUDO_GASTOSCOBRANZA,\n",
    "\tc.PROV_NUEVA_AJUSTADA,\n",
    "\tc.CART_RECAUDO_INTERESFINANCIERO,\n",
    "\tc.CART_CUOTASFAC,\n",
    "\tc.CART_PILOTO, \t\t\t\t\t\t\t\t------------ muchos campos\n",
    "\tLAST_DAY(TO_DATE(CART_UNIDAD, 'DDMMYYYY')) as UNIDAD2,\n",
    "\tLAST_DAY(CART_EMISION) as PERIODO,\n",
    "\tcase\n",
    "\t\twhen c.cart_tramo_nuevo is not null\n",
    "\t\t\tand c.cart_tramo_nuevo in (select valor from param where grupo = 'CART_TRAMO_{pais}') then c.cart_recaudo_capital\n",
    "\t\telse 0\n",
    "\tend as DEUDAS_MALAS,\n",
    "\tcase\n",
    "\t\twhen c.cart_tipocuenta not in (Select valor from param where grupo = 'CART_TCUENTA_{pais}')\n",
    "\t\t\tand c.cart_tramo_nuevo is not null\n",
    "\t\t\tand c.cart_tramo_nuevo in (select valor from param where grupo = 'CART_TRAMO_{pais}') then 0\n",
    "\t    when c.CART_TIPOCUENTA not in (Select valor from param where grupo = 'CART_TCUENTA_{pais}')\n",
    "\t        then cast((select valor from param where grupo = 'CFONDEO_{pais}' and periodo = '2024') as float) * c.CART_CAPITAL  \t\t----------------------Ha estado en 0 desde 2024 --cambiar por AÑO\n",
    "    else null\n",
    "\tend as COSTO_FONDEO,\n",
    "\tcase\n",
    "\t\twhen u.unidad_fecha >= to_date('20220101', 'yyyymmdd') \t\t\t\t\n",
    "\t\t\tand c.cart_tipocuenta not in (Select valor from param where grupo = 'CART_TCUENTA_{pais}')\n",
    "\t\t\tand c.cart_tramo_nuevo is not null\n",
    "\t\t\tand c.cart_tramo_nuevo in (select valor from param where grupo = 'CART_TRAMO_{pais}') then 0\n",
    "\t\twhen u.unidad_fecha >= to_date('20220101', 'yyyymmdd')\n",
    "\t\t\tand c.cart_tipocuenta not in (Select valor from param where grupo = 'CART_TCUENTA_{pais}')\n",
    "\t\t\tthen cast(tw.wac_nm as float) * c.cart_capital\n",
    "\t\telse 0\n",
    "\tend as COSTO_FONDEO_WACC,\n",
    "\tROW_NUMBER() OVER (PARTITION BY c.CART_CLIENTE, c.CART_CTACAR, LAST_DAY(c.CART_EMISION)\n",
    "                   ORDER BY LAST_DAY(TO_DATE(c.CART_UNIDAD, 'DDMMYYYY'))) AS meses_maduracion,\n",
    "    '{empresa_pais.get(pais)}' as CART_EMP\n",
    "from\n",
    "\t{esquema_pais.get(pais)}.CARTERA c,\n",
    "\tgold.unidad_tiempo u,\n",
    "\ttasas_wac tw\n",
    "where\n",
    "\tc.CART_TIPCRE in (select valor from param where grupo = 'CART_TCRE_{pais}')\n",
    "\tand c.cart_unidad = u.unidad_codigo\n",
    "\tand u.unidad_fecha >= to_date('{ano}{mes}01', 'yyyymmdd')\t\n",
    "\tand u.unidad_fecha <= last_day(to_date('{ano}{mes}01', 'yyyymmdd'))\t\n",
    "\tand LAST_DAY(TO_DATE(c.CART_UNIDAD, 'DDMMYYYY')) = tw.unidad2\n",
    "\"\"\""
   ]
  },
  {
   "cell_type": "code",
   "execution_count": 17,
   "id": "48684821-5d36-429e-be6a-297d9c01b3e1",
   "metadata": {},
   "outputs": [
    {
     "data": {
      "application/vnd.jupyter.widget-view+json": {
       "model_id": "",
       "version_major": 2,
       "version_minor": 0
      },
      "text/plain": [
       "FloatProgress(value=0.0, bar_style='info', description='Progress:', layout=Layout(height='25px', width='50%'),…"
      ]
     },
     "metadata": {},
     "output_type": "display_data"
    },
    {
     "name": "stdout",
     "output_type": "stream",
     "text": [
      "\n",
      "--consulta cartera--\n",
      "with tasas_wac as(\n",
      "\tSELECT\n",
      "\tlast_day(to_date(v.campo1, 'd/mm/yyyy')) unidad2,\n",
      "\tv.campo2 WAC_NM\n",
      "\t  FROM bronze_col.variablesrentabilidadexcel v, silver.tipos_excel_variables t\n",
      "\t  WHERE t.id = v.excelid\n",
      "\t  AND t.nombre='COSTO_FINANCIERO_WACC'\n",
      "),\n",
      "param AS (\n",
      "  SELECT\n",
      "    valor,\n",
      "    grupo,\n",
      "    periodo\n",
      "  FROM bronze_col.parametros_r\n",
      ")\n",
      "select\n",
      "\tc.CART_UNIDAD,\n",
      "\tc.CART_EMISION,\n",
      "\tc.CART_TRAMO_NUEVO,\n",
      "\tc.CART_RECAUDO_CAPITAL,\n",
      "\tc.CART_TIPOCUENTA,\n",
      "\tc.CART_CAPITAL,\n",
      "\tc.CART_TIPCRE,\n",
      "\tc.CART_CLIENTE,\n",
      "\tc.CART_CTACAR,\n",
      "\tc.CART_AGE_ULT_COMPRA,\n",
      "\tc.CART_PROV_LISIM_CAPITAL_INI,\n",
      "\tc.CART_SALPROV,\n",
      "\tc.CART_PROVISION,\n",
      "\tc.CART_SALDOPROVINI,\n",
      "\tc.CART_RECPER,\n",
      "\tc.CART_DCTO_CAPITAL,\n",
      "\tc.CART_SALPROVCAPITAL,\n",
      "\tc.CART_TRAMOINI,\n",
      "\tc.CART_RECAUDO_HONORARIOS,\n",
      "\tc.CART_ESTADO,\n",
      "\tc.CART_ESTINI,\n",
      "\tc.CART_SEGMENTO,\n",
      "\tc.CART_PRIMERA_ACC_SUGERIDA,\n",
      "\tc.CART_MARCADATA,\n",
      "\tc.CART_PRIMERA_MARCADATA,\n",
      "\tc.PROVISION_CAPITAL_NUEVO,\n",
      "\tc.CART_ACCIONSUGERIDA,\n",
      "\tc.CART_SALDO,\n",
      "\tc.CART_SALDO_CAPITAL_INI,\n",
      "\tc.CART_RECAUDO_INTERESMORA,\n",
      "\tc.CART_RECAUDO_GASTOSCOBRANZA,\n",
      "\tc.PROV_NUEVA_AJUSTADA,\n",
      "\tc.CART_RECAUDO_INTERESFINANCIERO,\n",
      "\tc.CART_CUOTASFAC,\n",
      "\tc.CART_PILOTO, \t\t\t\t\t\t\t\t------------ muchos campos\n",
      "\tLAST_DAY(TO_DATE(CART_UNIDAD, 'DDMMYYYY')) as UNIDAD2,\n",
      "\tLAST_DAY(CART_EMISION) as PERIODO,\n",
      "\tcase\n",
      "\t\twhen c.cart_tramo_nuevo is not null\n",
      "\t\t\tand c.cart_tramo_nuevo in (select valor from param where grupo = 'CART_TRAMO_02') then c.cart_recaudo_capital\n",
      "\t\telse 0\n",
      "\tend as DEUDAS_MALAS,\n",
      "\tcase\n",
      "\t\twhen c.cart_tipocuenta not in (Select valor from param where grupo = 'CART_TCUENTA_02')\n",
      "\t\t\tand c.cart_tramo_nuevo is not null\n",
      "\t\t\tand c.cart_tramo_nuevo in (select valor from param where grupo = 'CART_TRAMO_02') then 0\n",
      "\t    when c.CART_TIPOCUENTA not in (Select valor from param where grupo = 'CART_TCUENTA_02')\n",
      "\t        then cast((select valor from param where grupo = 'CFONDEO_02' and periodo = '2024') as float) * c.CART_CAPITAL  \t\t----------------------Ha estado en 0 desde 2024 --cambiar por AÑO\n",
      "    else null\n",
      "\tend as COSTO_FONDEO,\n",
      "\tcase\n",
      "\t\twhen u.unidad_fecha >= to_date('20220101', 'yyyymmdd') \t\t\t\t\n",
      "\t\t\tand c.cart_tipocuenta not in (Select valor from param where grupo = 'CART_TCUENTA_02')\n",
      "\t\t\tand c.cart_tramo_nuevo is not null\n",
      "\t\t\tand c.cart_tramo_nuevo in (select valor from param where grupo = 'CART_TRAMO_02') then 0\n",
      "\t\twhen u.unidad_fecha >= to_date('20220101', 'yyyymmdd')\n",
      "\t\t\tand c.cart_tipocuenta not in (Select valor from param where grupo = 'CART_TCUENTA_02')\n",
      "\t\t\tthen cast(tw.wac_nm as float) * c.cart_capital\n",
      "\t\telse 0\n",
      "\tend as COSTO_FONDEO_WACC,\n",
      "\tROW_NUMBER() OVER (PARTITION BY c.CART_CLIENTE, c.CART_CTACAR, LAST_DAY(c.CART_EMISION)\n",
      "                   ORDER BY LAST_DAY(TO_DATE(c.CART_UNIDAD, 'DDMMYYYY'))) AS meses_maduracion,\n",
      "    'JP' as CART_EMP\n",
      "from\n",
      "\tsilver_pan.CARTERA c,\n",
      "\tgold.unidad_tiempo u,\n",
      "\ttasas_wac tw\n",
      "where\n",
      "\tc.CART_TIPCRE in (select valor from param where grupo = 'CART_TCRE_02')\n",
      "\tand c.cart_unidad = u.unidad_codigo\n",
      "\tand u.unidad_fecha >= to_date('20250101', 'yyyymmdd')\t\n",
      "\tand u.unidad_fecha <= last_day(to_date('20250101', 'yyyymmdd'))\t\n",
      "\tand LAST_DAY(TO_DATE(c.CART_UNIDAD, 'DDMMYYYY')) = tw.unidad2"
     ]
    }
   ],
   "source": [
    "print(query_cartera)"
   ]
  },
  {
   "cell_type": "code",
   "execution_count": 18,
   "id": "53f25673-6251-4921-a934-769c16967aea",
   "metadata": {},
   "outputs": [
    {
     "data": {
      "application/vnd.jupyter.widget-view+json": {
       "model_id": "",
       "version_major": 2,
       "version_minor": 0
      },
      "text/plain": [
       "FloatProgress(value=0.0, bar_style='info', description='Progress:', layout=Layout(height='25px', width='50%'),…"
      ]
     },
     "metadata": {},
     "output_type": "display_data"
    },
    {
     "name": "stdout",
     "output_type": "stream",
     "text": [
      "/home/glue_user/spark/python/pyspark/sql/dataframe.py:127: UserWarning: DataFrame constructor is internal. Do not directly use it.\n",
      "  warnings.warn(\"DataFrame constructor is internal. Do not directly use it.\")"
     ]
    }
   ],
   "source": [
    "cartera_node = select_query_from_rd(query_cartera) \n",
    "cartera_df = cartera_node.toDF()"
   ]
  },
  {
   "cell_type": "code",
   "execution_count": null,
   "id": "332a7206-96d2-4f76-805b-3baf9aa02134",
   "metadata": {},
   "outputs": [],
   "source": [
    "cartera_df.show()"
   ]
  },
  {
   "cell_type": "code",
   "execution_count": 20,
   "id": "cc45c624-49fc-44ba-b519-05a1d8655348",
   "metadata": {},
   "outputs": [
    {
     "data": {
      "application/vnd.jupyter.widget-view+json": {
       "model_id": "",
       "version_major": 2,
       "version_minor": 0
      },
      "text/plain": [
       "FloatProgress(value=0.0, bar_style='info', description='Progress:', layout=Layout(height='25px', width='50%'),…"
      ]
     },
     "metadata": {},
     "output_type": "display_data"
    }
   ],
   "source": [
    "cartera_node_w = glueContext.write_dynamic_frame.from_options(\n",
    "    frame=cartera_node,\n",
    "    connection_type=\"redshift\",\n",
    "    connection_options={\n",
    "        \"postactions\": \"\"\"\n",
    "        \"\"\",\n",
    "        \"redshiftTmpDir\": \"s3://aws-glue-assets-575238426438-us-east-1/temporary/\",\n",
    "        \"useConnectionProperties\": \"true\",\n",
    "        \"dbtable\": \"cf_processing.cartera_2r\",\n",
    "        \"connectionName\": \"conexion-redshift\",\n",
    "        \"preactions\": f\"\"\"\n",
    "            DELETE FROM cf_processing.cartera_2r\n",
    "            where cart_unidad = last_day(to_date('{ano}-{mes}','yyyy-mm'))\n",
    "            and cart_emp = '{empresa_pais.get(pais)}';\n",
    "        \"\"\"\n",
    "    },\n",
    "    transformation_ctx=\"cartera_node_w\"\n",
    ")"
   ]
  }
 ],
 "metadata": {
  "kernelspec": {
   "display_name": "PySpark",
   "language": "python",
   "name": "pysparkkernel"
  },
  "language_info": {
   "codemirror_mode": {
    "name": "python",
    "version": 3
   },
   "file_extension": ".py",
   "mimetype": "text/x-python",
   "name": "pyspark",
   "pygments_lexer": "python3"
  }
 },
 "nbformat": 4,
 "nbformat_minor": 5
}
